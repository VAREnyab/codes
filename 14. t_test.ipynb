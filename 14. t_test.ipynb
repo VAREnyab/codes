{
 "cells": [
  {
   "cell_type": "code",
   "execution_count": 44,
   "id": "7c43c0cd",
   "metadata": {},
   "outputs": [],
   "source": [
    "import numpy as np\n",
    "import pandas as pd\n",
    "import scipy.stats as stats\n",
    "import math\n",
    "import seaborn as sns"
   ]
  },
  {
   "cell_type": "markdown",
   "id": "4f53978a",
   "metadata": {},
   "source": [
    "**One Sample T Test**  "
   ]
  },
  {
   "cell_type": "markdown",
   "id": "1ef44ff0",
   "metadata": {},
   "source": [
    "Example 1"
   ]
  },
  {
   "cell_type": "code",
   "execution_count": 8,
   "id": "f4f7d11b",
   "metadata": {},
   "outputs": [],
   "source": [
    "ages = [10,20,30,40,23,43,32,12,23,43,25,34,31,26,27,21,24,27,23,26,28,32,12,23,43,25,34,31,26]"
   ]
  },
  {
   "cell_type": "code",
   "execution_count": 9,
   "id": "4e699d26",
   "metadata": {},
   "outputs": [
    {
     "data": {
      "text/plain": [
       "29"
      ]
     },
     "execution_count": 9,
     "metadata": {},
     "output_type": "execute_result"
    }
   ],
   "source": [
    "len(ages)"
   ]
  },
  {
   "cell_type": "code",
   "execution_count": 10,
   "id": "88cb806c",
   "metadata": {},
   "outputs": [
    {
     "data": {
      "text/plain": [
       "27.379310344827587"
      ]
     },
     "execution_count": 10,
     "metadata": {},
     "output_type": "execute_result"
    }
   ],
   "source": [
    "ages_mean = np.mean(ages)\n",
    "\n",
    "# Population mean\n",
    "ages_mean"
   ]
  },
  {
   "cell_type": "markdown",
   "id": "cd64edab",
   "metadata": {},
   "source": [
    "Null Hypothesis  \n",
    "H0 : There is no difference\n",
    "\n",
    "Alternative Hypothesis  \n",
    "H1 : There is some difference"
   ]
  },
  {
   "cell_type": "code",
   "execution_count": 12,
   "id": "b946f2e4",
   "metadata": {},
   "outputs": [],
   "source": [
    "## Taking random sample\n",
    "\n",
    "sample_size = 10\n",
    "age_sample = np.random.choice(ages, sample_size)"
   ]
  },
  {
   "cell_type": "code",
   "execution_count": 13,
   "id": "83104d54",
   "metadata": {},
   "outputs": [
    {
     "data": {
      "text/plain": [
       "array([12, 26, 40, 26, 43, 31, 26, 23, 26, 40])"
      ]
     },
     "execution_count": 13,
     "metadata": {},
     "output_type": "execute_result"
    }
   ],
   "source": [
    "age_sample"
   ]
  },
  {
   "cell_type": "code",
   "execution_count": 15,
   "id": "f29aacca",
   "metadata": {},
   "outputs": [],
   "source": [
    "# For a 1 sample t test problem \n",
    "\n",
    "from scipy.stats import ttest_1samp"
   ]
  },
  {
   "cell_type": "code",
   "execution_count": 17,
   "id": "0622efb2",
   "metadata": {},
   "outputs": [],
   "source": [
    "ttest, p_value = ttest_1samp(age_sample, 27)\n",
    "\n",
    "# considering a random value close to the population mean"
   ]
  },
  {
   "cell_type": "code",
   "execution_count": 18,
   "id": "6dba3f19",
   "metadata": {},
   "outputs": [
    {
     "name": "stdout",
     "output_type": "stream",
     "text": [
      "0.4607877215860512\n"
     ]
    }
   ],
   "source": [
    "print(p_value)"
   ]
  },
  {
   "cell_type": "markdown",
   "id": "de4c9c60",
   "metadata": {},
   "source": [
    "If the p value is less 0.05 , then we reject Null Hypothesis"
   ]
  },
  {
   "cell_type": "code",
   "execution_count": 19,
   "id": "9fa57431",
   "metadata": {},
   "outputs": [
    {
     "name": "stdout",
     "output_type": "stream",
     "text": [
      "We accept Null Hypothesis\n"
     ]
    }
   ],
   "source": [
    "if p_value < 0.05:\n",
    "    print(\"We reject Null Hypothesis\")\n",
    "else:\n",
    "    print(\"We accept Null Hypothesis\")"
   ]
  },
  {
   "cell_type": "markdown",
   "id": "4905f372",
   "metadata": {},
   "source": [
    "Example 2"
   ]
  },
  {
   "cell_type": "code",
   "execution_count": 23,
   "id": "3f2220d7",
   "metadata": {},
   "outputs": [],
   "source": [
    "np.random.seed(6)\n",
    "\n",
    "# Population\n",
    "school_ages = stats.poisson.rvs(loc=18,mu=35,size=1500)\n",
    "\n",
    "# Sample\n",
    "class_ages = stats.poisson.rvs(loc=18,mu=30,size=60)"
   ]
  },
  {
   "cell_type": "code",
   "execution_count": 26,
   "id": "e57687b0",
   "metadata": {},
   "outputs": [
    {
     "data": {
      "text/plain": [
       "53.303333333333335"
      ]
     },
     "execution_count": 26,
     "metadata": {},
     "output_type": "execute_result"
    }
   ],
   "source": [
    "# Population Mean\n",
    "school_ages.mean()"
   ]
  },
  {
   "cell_type": "code",
   "execution_count": 24,
   "id": "bb78c9c6",
   "metadata": {},
   "outputs": [
    {
     "data": {
      "text/plain": [
       "46.9"
      ]
     },
     "execution_count": 24,
     "metadata": {},
     "output_type": "execute_result"
    }
   ],
   "source": [
    "# Sample Mean\n",
    "class_ages.mean()"
   ]
  },
  {
   "cell_type": "code",
   "execution_count": 27,
   "id": "8ad9a784",
   "metadata": {},
   "outputs": [],
   "source": [
    "_, p_value = stats.ttest_1samp(a=class_ages, popmean=school_ages.mean())"
   ]
  },
  {
   "cell_type": "code",
   "execution_count": 28,
   "id": "ee16f0eb",
   "metadata": {},
   "outputs": [
    {
     "data": {
      "text/plain": [
       "1.139027071016194e-13"
      ]
     },
     "execution_count": 28,
     "metadata": {},
     "output_type": "execute_result"
    }
   ],
   "source": [
    "p_value"
   ]
  },
  {
   "cell_type": "code",
   "execution_count": 29,
   "id": "be6fcad9",
   "metadata": {},
   "outputs": [
    {
     "name": "stdout",
     "output_type": "stream",
     "text": [
      "We reject Null Hypothesis\n"
     ]
    }
   ],
   "source": [
    "if p_value < 0.05:\n",
    "    print(\"We reject Null Hypothesis\")\n",
    "else:\n",
    "    print(\"We accept Null Hypothesis\")"
   ]
  },
  {
   "cell_type": "code",
   "execution_count": null,
   "id": "75e7c097",
   "metadata": {},
   "outputs": [],
   "source": []
  },
  {
   "cell_type": "markdown",
   "id": "decd6359",
   "metadata": {},
   "source": [
    "**Two Sample T Test**"
   ]
  },
  {
   "cell_type": "code",
   "execution_count": 31,
   "id": "0703109a",
   "metadata": {},
   "outputs": [],
   "source": [
    "np.random.seed(6)\n",
    "\n",
    "# Population\n",
    "school_ages = stats.poisson.rvs(loc=18,mu=35,size=1500)\n",
    "\n",
    "# Sample 1\n",
    "classA_ages = stats.poisson.rvs(loc=18,mu=30,size=60)\n",
    "# Sample 2\n",
    "classB_ages = stats.poisson.rvs(loc=18,mu=33,size=60)"
   ]
  },
  {
   "cell_type": "code",
   "execution_count": 32,
   "id": "ea4c6bf2",
   "metadata": {},
   "outputs": [],
   "source": [
    "# 2 sample t test we use ttest_ind\n",
    "\n",
    "_, p_value = stats.ttest_ind(a=classA_ages, b=classB_ages, equal_var=False)"
   ]
  },
  {
   "cell_type": "code",
   "execution_count": 33,
   "id": "6504d255",
   "metadata": {},
   "outputs": [
    {
     "data": {
      "text/plain": [
       "0.00030935839774215933"
      ]
     },
     "execution_count": 33,
     "metadata": {},
     "output_type": "execute_result"
    }
   ],
   "source": [
    "p_value"
   ]
  },
  {
   "cell_type": "code",
   "execution_count": 34,
   "id": "a1d1cfd3",
   "metadata": {},
   "outputs": [
    {
     "name": "stdout",
     "output_type": "stream",
     "text": [
      "We reject Null Hypothesis\n"
     ]
    }
   ],
   "source": [
    "if p_value < 0.05:\n",
    "    print(\"We reject Null Hypothesis\")\n",
    "else:\n",
    "    print(\"We accept Null Hypothesis\")"
   ]
  },
  {
   "cell_type": "code",
   "execution_count": null,
   "id": "f1092b90",
   "metadata": {},
   "outputs": [],
   "source": []
  },
  {
   "cell_type": "markdown",
   "id": "7b5e8093",
   "metadata": {},
   "source": [
    "**Paired T-test**  \n",
    "To check how differenent sample from the same group are"
   ]
  },
  {
   "cell_type": "code",
   "execution_count": 36,
   "id": "2dbd4ddc",
   "metadata": {},
   "outputs": [],
   "source": [
    "weight1 = [25,30,12,23,43,25]\n",
    "\n",
    "# same group of people but in the future\n",
    "weight2 = weight1 + stats.norm.rvs(scale=5, loc=-1.25, size=6)"
   ]
  },
  {
   "cell_type": "code",
   "execution_count": 37,
   "id": "2dcffc52",
   "metadata": {},
   "outputs": [
    {
     "data": {
      "text/plain": [
       "array([27.09095011, 19.68648006,  9.52783857, 18.04252112, 39.94225147,\n",
       "       27.94963554])"
      ]
     },
     "execution_count": 37,
     "metadata": {},
     "output_type": "execute_result"
    }
   ],
   "source": [
    "weight2"
   ]
  },
  {
   "cell_type": "markdown",
   "id": "39e909c2",
   "metadata": {},
   "source": [
    "Null Hypothesis  \n",
    "H0 : There is no statistical difference between weights\n",
    "\n",
    "Alternative Hypothesis  \n",
    "H1 : There is statistical difference between weights"
   ]
  },
  {
   "cell_type": "code",
   "execution_count": 39,
   "id": "ad4bbbe0",
   "metadata": {},
   "outputs": [],
   "source": [
    "weight_df = pd.DataFrame({'weight_10':np.array(weight1),\n",
    "                         'weight_20':np.array(weight2),\n",
    "                         'weight_change':np.array(weight2)-np.array(weight1)})"
   ]
  },
  {
   "cell_type": "code",
   "execution_count": 40,
   "id": "24d24988",
   "metadata": {},
   "outputs": [
    {
     "data": {
      "text/html": [
       "<div>\n",
       "<style scoped>\n",
       "    .dataframe tbody tr th:only-of-type {\n",
       "        vertical-align: middle;\n",
       "    }\n",
       "\n",
       "    .dataframe tbody tr th {\n",
       "        vertical-align: top;\n",
       "    }\n",
       "\n",
       "    .dataframe thead th {\n",
       "        text-align: right;\n",
       "    }\n",
       "</style>\n",
       "<table border=\"1\" class=\"dataframe\">\n",
       "  <thead>\n",
       "    <tr style=\"text-align: right;\">\n",
       "      <th></th>\n",
       "      <th>weight_10</th>\n",
       "      <th>weight_20</th>\n",
       "      <th>weight_change</th>\n",
       "    </tr>\n",
       "  </thead>\n",
       "  <tbody>\n",
       "    <tr>\n",
       "      <th>0</th>\n",
       "      <td>25</td>\n",
       "      <td>27.090950</td>\n",
       "      <td>2.090950</td>\n",
       "    </tr>\n",
       "    <tr>\n",
       "      <th>1</th>\n",
       "      <td>30</td>\n",
       "      <td>19.686480</td>\n",
       "      <td>-10.313520</td>\n",
       "    </tr>\n",
       "    <tr>\n",
       "      <th>2</th>\n",
       "      <td>12</td>\n",
       "      <td>9.527839</td>\n",
       "      <td>-2.472161</td>\n",
       "    </tr>\n",
       "    <tr>\n",
       "      <th>3</th>\n",
       "      <td>23</td>\n",
       "      <td>18.042521</td>\n",
       "      <td>-4.957479</td>\n",
       "    </tr>\n",
       "    <tr>\n",
       "      <th>4</th>\n",
       "      <td>43</td>\n",
       "      <td>39.942251</td>\n",
       "      <td>-3.057749</td>\n",
       "    </tr>\n",
       "    <tr>\n",
       "      <th>5</th>\n",
       "      <td>25</td>\n",
       "      <td>27.949636</td>\n",
       "      <td>2.949636</td>\n",
       "    </tr>\n",
       "  </tbody>\n",
       "</table>\n",
       "</div>"
      ],
      "text/plain": [
       "   weight_10  weight_20  weight_change\n",
       "0         25  27.090950       2.090950\n",
       "1         30  19.686480     -10.313520\n",
       "2         12   9.527839      -2.472161\n",
       "3         23  18.042521      -4.957479\n",
       "4         43  39.942251      -3.057749\n",
       "5         25  27.949636       2.949636"
      ]
     },
     "execution_count": 40,
     "metadata": {},
     "output_type": "execute_result"
    }
   ],
   "source": [
    "weight_df"
   ]
  },
  {
   "cell_type": "code",
   "execution_count": 41,
   "id": "5702d86c",
   "metadata": {},
   "outputs": [],
   "source": [
    "_, p_value = stats.ttest_rel(a=weight1, b=weight2)"
   ]
  },
  {
   "cell_type": "code",
   "execution_count": 42,
   "id": "6a4c2753",
   "metadata": {},
   "outputs": [
    {
     "data": {
      "text/plain": [
       "0.24280306777041608"
      ]
     },
     "execution_count": 42,
     "metadata": {},
     "output_type": "execute_result"
    }
   ],
   "source": [
    "p_value"
   ]
  },
  {
   "cell_type": "code",
   "execution_count": 43,
   "id": "f2905e4e",
   "metadata": {},
   "outputs": [
    {
     "name": "stdout",
     "output_type": "stream",
     "text": [
      "We accept Null Hypothesis\n"
     ]
    }
   ],
   "source": [
    "if p_value < 0.05:\n",
    "    print(\"We reject Null Hypothesis\")\n",
    "else:\n",
    "    print(\"We accept Null Hypothesis\")"
   ]
  },
  {
   "cell_type": "code",
   "execution_count": null,
   "id": "d3769b05",
   "metadata": {},
   "outputs": [],
   "source": []
  },
  {
   "cell_type": "markdown",
   "id": "62618832",
   "metadata": {},
   "source": [
    "**Chi Square Test**  \n",
    "This test is applied when we have 2 categorical variable from a single population. It is used to determine whether there is a significant association between 2 variable  "
   ]
  },
  {
   "cell_type": "code",
   "execution_count": 45,
   "id": "6fad04f2",
   "metadata": {},
   "outputs": [],
   "source": [
    "dataset = sns.load_dataset('tips')"
   ]
  },
  {
   "cell_type": "code",
   "execution_count": 47,
   "id": "0149eb82",
   "metadata": {},
   "outputs": [
    {
     "data": {
      "text/html": [
       "<div>\n",
       "<style scoped>\n",
       "    .dataframe tbody tr th:only-of-type {\n",
       "        vertical-align: middle;\n",
       "    }\n",
       "\n",
       "    .dataframe tbody tr th {\n",
       "        vertical-align: top;\n",
       "    }\n",
       "\n",
       "    .dataframe thead th {\n",
       "        text-align: right;\n",
       "    }\n",
       "</style>\n",
       "<table border=\"1\" class=\"dataframe\">\n",
       "  <thead>\n",
       "    <tr style=\"text-align: right;\">\n",
       "      <th></th>\n",
       "      <th>total_bill</th>\n",
       "      <th>tip</th>\n",
       "      <th>sex</th>\n",
       "      <th>smoker</th>\n",
       "      <th>day</th>\n",
       "      <th>time</th>\n",
       "      <th>size</th>\n",
       "    </tr>\n",
       "  </thead>\n",
       "  <tbody>\n",
       "    <tr>\n",
       "      <th>0</th>\n",
       "      <td>16.99</td>\n",
       "      <td>1.01</td>\n",
       "      <td>Female</td>\n",
       "      <td>No</td>\n",
       "      <td>Sun</td>\n",
       "      <td>Dinner</td>\n",
       "      <td>2</td>\n",
       "    </tr>\n",
       "    <tr>\n",
       "      <th>1</th>\n",
       "      <td>10.34</td>\n",
       "      <td>1.66</td>\n",
       "      <td>Male</td>\n",
       "      <td>No</td>\n",
       "      <td>Sun</td>\n",
       "      <td>Dinner</td>\n",
       "      <td>3</td>\n",
       "    </tr>\n",
       "    <tr>\n",
       "      <th>2</th>\n",
       "      <td>21.01</td>\n",
       "      <td>3.50</td>\n",
       "      <td>Male</td>\n",
       "      <td>No</td>\n",
       "      <td>Sun</td>\n",
       "      <td>Dinner</td>\n",
       "      <td>3</td>\n",
       "    </tr>\n",
       "    <tr>\n",
       "      <th>3</th>\n",
       "      <td>23.68</td>\n",
       "      <td>3.31</td>\n",
       "      <td>Male</td>\n",
       "      <td>No</td>\n",
       "      <td>Sun</td>\n",
       "      <td>Dinner</td>\n",
       "      <td>2</td>\n",
       "    </tr>\n",
       "    <tr>\n",
       "      <th>4</th>\n",
       "      <td>24.59</td>\n",
       "      <td>3.61</td>\n",
       "      <td>Female</td>\n",
       "      <td>No</td>\n",
       "      <td>Sun</td>\n",
       "      <td>Dinner</td>\n",
       "      <td>4</td>\n",
       "    </tr>\n",
       "  </tbody>\n",
       "</table>\n",
       "</div>"
      ],
      "text/plain": [
       "   total_bill   tip     sex smoker  day    time  size\n",
       "0       16.99  1.01  Female     No  Sun  Dinner     2\n",
       "1       10.34  1.66    Male     No  Sun  Dinner     3\n",
       "2       21.01  3.50    Male     No  Sun  Dinner     3\n",
       "3       23.68  3.31    Male     No  Sun  Dinner     2\n",
       "4       24.59  3.61  Female     No  Sun  Dinner     4"
      ]
     },
     "execution_count": 47,
     "metadata": {},
     "output_type": "execute_result"
    }
   ],
   "source": [
    "dataset.head()"
   ]
  },
  {
   "cell_type": "code",
   "execution_count": 50,
   "id": "b4d9a5f8",
   "metadata": {},
   "outputs": [
    {
     "data": {
      "text/html": [
       "<div>\n",
       "<style scoped>\n",
       "    .dataframe tbody tr th:only-of-type {\n",
       "        vertical-align: middle;\n",
       "    }\n",
       "\n",
       "    .dataframe tbody tr th {\n",
       "        vertical-align: top;\n",
       "    }\n",
       "\n",
       "    .dataframe thead th {\n",
       "        text-align: right;\n",
       "    }\n",
       "</style>\n",
       "<table border=\"1\" class=\"dataframe\">\n",
       "  <thead>\n",
       "    <tr style=\"text-align: right;\">\n",
       "      <th>smoker</th>\n",
       "      <th>Yes</th>\n",
       "      <th>No</th>\n",
       "    </tr>\n",
       "    <tr>\n",
       "      <th>sex</th>\n",
       "      <th></th>\n",
       "      <th></th>\n",
       "    </tr>\n",
       "  </thead>\n",
       "  <tbody>\n",
       "    <tr>\n",
       "      <th>Male</th>\n",
       "      <td>60</td>\n",
       "      <td>97</td>\n",
       "    </tr>\n",
       "    <tr>\n",
       "      <th>Female</th>\n",
       "      <td>33</td>\n",
       "      <td>54</td>\n",
       "    </tr>\n",
       "  </tbody>\n",
       "</table>\n",
       "</div>"
      ],
      "text/plain": [
       "smoker  Yes  No\n",
       "sex            \n",
       "Male     60  97\n",
       "Female   33  54"
      ]
     },
     "execution_count": 50,
     "metadata": {},
     "output_type": "execute_result"
    }
   ],
   "source": [
    "# to check if 2 categorical feature has any association\n",
    "# crosstab forms a matrix\n",
    "dataset_table = pd.crosstab(dataset['sex'], dataset['smoker'])\n",
    "dataset_table"
   ]
  },
  {
   "cell_type": "markdown",
   "id": "bfbb6223",
   "metadata": {},
   "source": [
    "Null Hypothesis  \n",
    "H0 : There is no relationship between 2 categorical variables\n",
    "\n",
    "Alternative Hypothesis  \n",
    "H1 : There is relationship between 2 categorical variables"
   ]
  },
  {
   "cell_type": "code",
   "execution_count": 54,
   "id": "a1966f95",
   "metadata": {},
   "outputs": [
    {
     "name": "stdout",
     "output_type": "stream",
     "text": [
      "Observed Values\n",
      " [[60 97]\n",
      " [33 54]]\n"
     ]
    }
   ],
   "source": [
    "# Observed Values\n",
    "\n",
    "observed_values = dataset_table.values\n",
    "print(\"Observed Values\\n\",observed_values)"
   ]
  },
  {
   "cell_type": "code",
   "execution_count": 57,
   "id": "9770c952",
   "metadata": {},
   "outputs": [
    {
     "data": {
      "text/plain": [
       "(0.0,\n",
       " 1.0,\n",
       " 1,\n",
       " array([[59.84016393, 97.15983607],\n",
       "        [33.15983607, 53.84016393]]))"
      ]
     },
     "execution_count": 57,
     "metadata": {},
     "output_type": "execute_result"
    }
   ],
   "source": [
    "val = stats.chi2_contingency(dataset_table)\n",
    "val"
   ]
  },
  {
   "cell_type": "code",
   "execution_count": 59,
   "id": "d58ed94c",
   "metadata": {},
   "outputs": [
    {
     "data": {
      "text/plain": [
       "array([[59.84016393, 97.15983607],\n",
       "       [33.15983607, 53.84016393]])"
      ]
     },
     "execution_count": 59,
     "metadata": {},
     "output_type": "execute_result"
    }
   ],
   "source": [
    "expected_value = val[3]\n",
    "expected_value"
   ]
  },
  {
   "cell_type": "code",
   "execution_count": 61,
   "id": "cd28b24d",
   "metadata": {},
   "outputs": [
    {
     "name": "stdout",
     "output_type": "stream",
     "text": [
      "Degrees of Freedom 1\n"
     ]
    }
   ],
   "source": [
    "# Since its a 2X2 matrics\n",
    "no_of_rows = len(dataset_table.iloc[0:2,0])\n",
    "no_of_cols = len(dataset_table.iloc[0,0:2])\n",
    "\n",
    "# degrees of freedom\n",
    "ddof = (no_of_rows - 1) * (no_of_cols - 1)\n",
    "\n",
    "print(\"Degrees of Freedom:\", ddof)\n",
    "\n",
    "alpha = 0.05"
   ]
  },
  {
   "cell_type": "code",
   "execution_count": 64,
   "id": "747ebb03",
   "metadata": {},
   "outputs": [],
   "source": [
    "from scipy.stats import chi2\n",
    "\n",
    "chi_square = sum([(o-e)**2./e for o,e in zip(observed_values, expected_value)])\n",
    "\n",
    "chi_square_statistic = chi_square[0] + chi_square[1]"
   ]
  },
  {
   "cell_type": "code",
   "execution_count": 66,
   "id": "4a4586a6",
   "metadata": {},
   "outputs": [
    {
     "name": "stdout",
     "output_type": "stream",
     "text": [
      "chi_square_statistic:  0.001934818536627623\n"
     ]
    }
   ],
   "source": [
    "print('chi_square_statistic: ',chi_square_statistic)"
   ]
  },
  {
   "cell_type": "code",
   "execution_count": 67,
   "id": "b8c5a05c",
   "metadata": {},
   "outputs": [
    {
     "name": "stdout",
     "output_type": "stream",
     "text": [
      "critical_value 3.841458820694124\n"
     ]
    }
   ],
   "source": [
    "critical_value = chi2.ppf(q=1-alpha, df=ddof)\n",
    "print('critical_value',critical_value)"
   ]
  },
  {
   "cell_type": "code",
   "execution_count": 72,
   "id": "962ce933",
   "metadata": {},
   "outputs": [
    {
     "name": "stdout",
     "output_type": "stream",
     "text": [
      "We accept Null Hypothesis\n"
     ]
    }
   ],
   "source": [
    "if chi_square_statistic >= critical_value:\n",
    "    print(\"We reject Null Hypothesis\")\n",
    "else:\n",
    "    print(\"We accept Null Hypothesis\")"
   ]
  },
  {
   "cell_type": "code",
   "execution_count": 69,
   "id": "6d7e5919",
   "metadata": {},
   "outputs": [
    {
     "name": "stdout",
     "output_type": "stream",
     "text": [
      "p-value 0.964915107315732\n",
      "Significane Level 0.05\n",
      "Degrees of Freedom: 1\n"
     ]
    }
   ],
   "source": [
    "# p-value\n",
    "\n",
    "p_value = 1-chi2.cdf(x=chi_square_statistic, df=ddof)\n",
    "\n",
    "print('p-value', p_value)\n",
    "print('Significane Level',alpha)\n",
    "print(\"Degrees of Freedom:\", ddof)"
   ]
  },
  {
   "cell_type": "code",
   "execution_count": 71,
   "id": "ef3fbf2b",
   "metadata": {},
   "outputs": [
    {
     "name": "stdout",
     "output_type": "stream",
     "text": [
      "We accept Null Hypothesis\n"
     ]
    }
   ],
   "source": [
    "if p_value <= alpha:\n",
    "    print(\"We reject Null Hypothesis\")\n",
    "else:\n",
    "    print(\"We accept Null Hypothesis\")"
   ]
  }
 ],
 "metadata": {
  "kernelspec": {
   "display_name": "Python 3 (ipykernel)",
   "language": "python",
   "name": "python3"
  },
  "language_info": {
   "codemirror_mode": {
    "name": "ipython",
    "version": 3
   },
   "file_extension": ".py",
   "mimetype": "text/x-python",
   "name": "python",
   "nbconvert_exporter": "python",
   "pygments_lexer": "ipython3",
   "version": "3.9.12"
  }
 },
 "nbformat": 4,
 "nbformat_minor": 5
}
