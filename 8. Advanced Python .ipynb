{
 "cells": [
  {
   "cell_type": "markdown",
   "id": "20bca90b",
   "metadata": {},
   "source": [
    "**i) Class**"
   ]
  },
  {
   "cell_type": "code",
   "execution_count": 1,
   "id": "86a6e93d",
   "metadata": {},
   "outputs": [],
   "source": [
    "class Car1:\n",
    "    pass"
   ]
  },
  {
   "cell_type": "code",
   "execution_count": 2,
   "id": "a065f296",
   "metadata": {},
   "outputs": [],
   "source": [
    "car1 = Car1()"
   ]
  },
  {
   "cell_type": "code",
   "execution_count": 3,
   "id": "366b3ee7",
   "metadata": {},
   "outputs": [
    {
     "data": {
      "text/plain": [
       "<__main__.Car1 at 0x1b0e8829d30>"
      ]
     },
     "execution_count": 3,
     "metadata": {},
     "output_type": "execute_result"
    }
   ],
   "source": [
    "car1"
   ]
  },
  {
   "cell_type": "code",
   "execution_count": 4,
   "id": "eb5cd6ba",
   "metadata": {},
   "outputs": [],
   "source": [
    "car1.windows = 5\n",
    "car1.doors = 4"
   ]
  },
  {
   "cell_type": "code",
   "execution_count": 5,
   "id": "c3b5f98d",
   "metadata": {},
   "outputs": [
    {
     "data": {
      "text/plain": [
       "5"
      ]
     },
     "execution_count": 5,
     "metadata": {},
     "output_type": "execute_result"
    }
   ],
   "source": [
    "car1.windows"
   ]
  },
  {
   "cell_type": "code",
   "execution_count": 6,
   "id": "74cc1c1a",
   "metadata": {},
   "outputs": [],
   "source": [
    "car2 = Car1()"
   ]
  },
  {
   "cell_type": "code",
   "execution_count": 7,
   "id": "9c746e66",
   "metadata": {},
   "outputs": [],
   "source": [
    "car2.windows = 4\n",
    "car2.doors = 2"
   ]
  },
  {
   "cell_type": "code",
   "execution_count": null,
   "id": "2ac55078",
   "metadata": {},
   "outputs": [],
   "source": []
  },
  {
   "cell_type": "code",
   "execution_count": 8,
   "id": "29844937",
   "metadata": {},
   "outputs": [],
   "source": [
    "class Car:\n",
    "    def __init__(self,window,door,enginetype):\n",
    "        self.windows = window\n",
    "        self.doors = door\n",
    "        self.enginetypes = enginetype\n",
    "        \n",
    "    def self_driving(self):\n",
    "        return \"The car is a {} car\".format(self.enginetypes)"
   ]
  },
  {
   "cell_type": "code",
   "execution_count": 9,
   "id": "2b8b3815",
   "metadata": {},
   "outputs": [],
   "source": [
    "car1 = Car(5,4,'petrol')"
   ]
  },
  {
   "cell_type": "code",
   "execution_count": 10,
   "id": "981aca4d",
   "metadata": {},
   "outputs": [],
   "source": [
    "car2 = Car(3,2,'diesel')"
   ]
  },
  {
   "cell_type": "code",
   "execution_count": 11,
   "id": "319f933c",
   "metadata": {},
   "outputs": [
    {
     "name": "stdout",
     "output_type": "stream",
     "text": [
      "5\n",
      "3\n"
     ]
    }
   ],
   "source": [
    "print(car1.windows)\n",
    "print(car2.windows)"
   ]
  },
  {
   "cell_type": "code",
   "execution_count": 12,
   "id": "3ba2c196",
   "metadata": {},
   "outputs": [
    {
     "data": {
      "text/plain": [
       "'The car is a diesel car'"
      ]
     },
     "execution_count": 12,
     "metadata": {},
     "output_type": "execute_result"
    }
   ],
   "source": [
    "car2.self_driving()"
   ]
  },
  {
   "cell_type": "markdown",
   "id": "43968e2d",
   "metadata": {},
   "source": [
    "**ii) OOPS - Public, Protected and Private**"
   ]
  },
  {
   "cell_type": "code",
   "execution_count": 1,
   "id": "a22d6516",
   "metadata": {},
   "outputs": [],
   "source": [
    "# All the class variables are public \n",
    "\n",
    "class Car_pulic():\n",
    "    def __init__(self,window,door,enginetype):\n",
    "        self.windows = window\n",
    "        self.doors = door\n",
    "        self.enginetypes = enginetype"
   ]
  },
  {
   "cell_type": "code",
   "execution_count": 2,
   "id": "72329526",
   "metadata": {},
   "outputs": [],
   "source": [
    "audi = Car_pulic(4,4,'petrol')"
   ]
  },
  {
   "cell_type": "code",
   "execution_count": 3,
   "id": "57bbbd32",
   "metadata": {},
   "outputs": [
    {
     "data": {
      "text/plain": [
       "['__class__',\n",
       " '__delattr__',\n",
       " '__dict__',\n",
       " '__dir__',\n",
       " '__doc__',\n",
       " '__eq__',\n",
       " '__format__',\n",
       " '__ge__',\n",
       " '__getattribute__',\n",
       " '__gt__',\n",
       " '__hash__',\n",
       " '__init__',\n",
       " '__init_subclass__',\n",
       " '__le__',\n",
       " '__lt__',\n",
       " '__module__',\n",
       " '__ne__',\n",
       " '__new__',\n",
       " '__reduce__',\n",
       " '__reduce_ex__',\n",
       " '__repr__',\n",
       " '__setattr__',\n",
       " '__sizeof__',\n",
       " '__str__',\n",
       " '__subclasshook__',\n",
       " '__weakref__',\n",
       " 'doors',\n",
       " 'enginetypes',\n",
       " 'windows']"
      ]
     },
     "execution_count": 3,
     "metadata": {},
     "output_type": "execute_result"
    }
   ],
   "source": [
    "dir(audi)"
   ]
  },
  {
   "cell_type": "code",
   "execution_count": 4,
   "id": "368e2fd9",
   "metadata": {},
   "outputs": [],
   "source": [
    "# All the class variables are protected \n",
    "\n",
    "class Car_protected():\n",
    "    def __init__(self,window,door,enginetype):\n",
    "        self._windows = window\n",
    "        self._doors = door\n",
    "        self._enginetypes = enginetype"
   ]
  },
  {
   "cell_type": "code",
   "execution_count": 9,
   "id": "7ff14dd5",
   "metadata": {},
   "outputs": [],
   "source": [
    "class Truck(Car_protected):\n",
    "    def __init__(self,windows,doors,enginetype,horsepower):\n",
    "        super().__init__(windows,doors,enginetype)\n",
    "        self.horsepower = horsepower"
   ]
  },
  {
   "cell_type": "markdown",
   "id": "b4f50505",
   "metadata": {},
   "source": [
    "**Note**  \n",
    "In the case of a protected class, we can change the value of the attribute through the help of a subclass. That subclass is inherited by the parent class"
   ]
  },
  {
   "cell_type": "code",
   "execution_count": 10,
   "id": "23026765",
   "metadata": {},
   "outputs": [
    {
     "data": {
      "text/plain": [
       "['__class__',\n",
       " '__delattr__',\n",
       " '__dict__',\n",
       " '__dir__',\n",
       " '__doc__',\n",
       " '__eq__',\n",
       " '__format__',\n",
       " '__ge__',\n",
       " '__getattribute__',\n",
       " '__gt__',\n",
       " '__hash__',\n",
       " '__init__',\n",
       " '__init_subclass__',\n",
       " '__le__',\n",
       " '__lt__',\n",
       " '__module__',\n",
       " '__ne__',\n",
       " '__new__',\n",
       " '__reduce__',\n",
       " '__reduce_ex__',\n",
       " '__repr__',\n",
       " '__setattr__',\n",
       " '__sizeof__',\n",
       " '__str__',\n",
       " '__subclasshook__',\n",
       " '__weakref__',\n",
       " '_doors',\n",
       " '_enginetypes',\n",
       " '_windows',\n",
       " 'horsepower']"
      ]
     },
     "execution_count": 10,
     "metadata": {},
     "output_type": "execute_result"
    }
   ],
   "source": [
    "truck = Truck(4,4,\"Diesel\",4000)\n",
    "dir(truck)"
   ]
  },
  {
   "cell_type": "code",
   "execution_count": 12,
   "id": "46be4d35",
   "metadata": {},
   "outputs": [
    {
     "data": {
      "text/plain": [
       "5"
      ]
     },
     "execution_count": 12,
     "metadata": {},
     "output_type": "execute_result"
    }
   ],
   "source": [
    "truck._doors = 5\n",
    "truck._doors"
   ]
  },
  {
   "cell_type": "code",
   "execution_count": 6,
   "id": "a3bd64cc",
   "metadata": {},
   "outputs": [
    {
     "data": {
      "text/plain": [
       "['__class__',\n",
       " '__delattr__',\n",
       " '__dict__',\n",
       " '__dir__',\n",
       " '__doc__',\n",
       " '__eq__',\n",
       " '__format__',\n",
       " '__ge__',\n",
       " '__getattribute__',\n",
       " '__gt__',\n",
       " '__hash__',\n",
       " '__init__',\n",
       " '__init_subclass__',\n",
       " '__le__',\n",
       " '__lt__',\n",
       " '__module__',\n",
       " '__ne__',\n",
       " '__new__',\n",
       " '__reduce__',\n",
       " '__reduce_ex__',\n",
       " '__repr__',\n",
       " '__setattr__',\n",
       " '__sizeof__',\n",
       " '__str__',\n",
       " '__subclasshook__',\n",
       " '__weakref__',\n",
       " '_doors',\n",
       " '_enginetypes',\n",
       " '_windows']"
      ]
     },
     "execution_count": 6,
     "metadata": {},
     "output_type": "execute_result"
    }
   ],
   "source": [
    "audi = Car_protected(4,4,'diesel')\n",
    "dir(audi)"
   ]
  },
  {
   "cell_type": "code",
   "execution_count": 7,
   "id": "a32fa0c5",
   "metadata": {},
   "outputs": [],
   "source": [
    "audi._windows = 5"
   ]
  },
  {
   "cell_type": "code",
   "execution_count": 8,
   "id": "9eed5564",
   "metadata": {},
   "outputs": [
    {
     "data": {
      "text/plain": [
       "5"
      ]
     },
     "execution_count": 8,
     "metadata": {},
     "output_type": "execute_result"
    }
   ],
   "source": [
    "audi._windows"
   ]
  },
  {
   "cell_type": "code",
   "execution_count": 26,
   "id": "40463b37",
   "metadata": {},
   "outputs": [],
   "source": [
    "# All the class variables are private\n",
    "\n",
    "class Car_private():\n",
    "    def __init__(self,window,door,enginetype):\n",
    "        self.__windows = window\n",
    "        self.__doors = door\n",
    "        self.__enginetypes = enginetype"
   ]
  },
  {
   "cell_type": "code",
   "execution_count": 29,
   "id": "591f381b",
   "metadata": {},
   "outputs": [
    {
     "data": {
      "text/plain": [
       "['_Car_private__doors',\n",
       " '_Car_private__enginetypes',\n",
       " '_Car_private__windows',\n",
       " '__class__',\n",
       " '__delattr__']"
      ]
     },
     "execution_count": 29,
     "metadata": {},
     "output_type": "execute_result"
    }
   ],
   "source": [
    "audi = Car_private(4,5,'petrol')\n",
    "dir(audi)[0:5]"
   ]
  },
  {
   "cell_type": "markdown",
   "id": "d881abb3",
   "metadata": {},
   "source": [
    "### Python OOPS - Inheritance "
   ]
  },
  {
   "cell_type": "code",
   "execution_count": 38,
   "id": "f5772126",
   "metadata": {},
   "outputs": [],
   "source": [
    "# All the class variables are public \n",
    "\n",
    "class Car():\n",
    "    \n",
    "    # __init__ is a initialisation constructor, which contains the basic information (attributes)\n",
    "    def __init__(self,window,door,enginetype):\n",
    "        self.windows = window\n",
    "        self.doors = door\n",
    "        self.enginetypes = enginetype\n",
    "        \n",
    "    # public method , functionality that is present inside this class\n",
    "    def drive(self):\n",
    "        print(\"The Persin drives the car\")"
   ]
  },
  {
   "cell_type": "code",
   "execution_count": 39,
   "id": "d9723a36",
   "metadata": {},
   "outputs": [],
   "source": [
    "# creating an object car\n",
    "\n",
    "car = Car(4,5,'diesel')"
   ]
  },
  {
   "cell_type": "code",
   "execution_count": 40,
   "id": "63364734",
   "metadata": {},
   "outputs": [
    {
     "data": {
      "text/plain": [
       "['__subclasshook__', '__weakref__', 'doors', 'drive', 'enginetypes', 'windows']"
      ]
     },
     "execution_count": 40,
     "metadata": {},
     "output_type": "execute_result"
    }
   ],
   "source": [
    "dir(car)[-6:]"
   ]
  },
  {
   "cell_type": "code",
   "execution_count": 41,
   "id": "6edc9d64",
   "metadata": {},
   "outputs": [
    {
     "name": "stdout",
     "output_type": "stream",
     "text": [
      "The Persin drives the car\n"
     ]
    }
   ],
   "source": [
    "car.drive()"
   ]
  },
  {
   "cell_type": "code",
   "execution_count": 44,
   "id": "0c7a9e15",
   "metadata": {},
   "outputs": [],
   "source": [
    "# inheriting from car class\n",
    "class audi(Car):\n",
    "    def __init__(self,window,door,enginetype,enableai):\n",
    "        \n",
    "        # all the parameters from the parent class can be accessed with super()\n",
    "        super().__init__(window,door,enginetype)\n",
    "        self.enableai = enableai\n",
    "    \n",
    "    def selfdriving(self):\n",
    "        print(\"Audi supports Self driving\")"
   ]
  },
  {
   "cell_type": "code",
   "execution_count": 45,
   "id": "be2c0695",
   "metadata": {},
   "outputs": [],
   "source": [
    "audiQ7 = audi(5,5,\"diesel\",True)"
   ]
  },
  {
   "cell_type": "code",
   "execution_count": 48,
   "id": "994829be",
   "metadata": {},
   "outputs": [
    {
     "data": {
      "text/plain": [
       "['__weakref__',\n",
       " 'doors',\n",
       " 'drive',\n",
       " 'enableai',\n",
       " 'enginetypes',\n",
       " 'selfdriving',\n",
       " 'windows']"
      ]
     },
     "execution_count": 48,
     "metadata": {},
     "output_type": "execute_result"
    }
   ],
   "source": [
    "dir(audiQ7)[-7:]"
   ]
  },
  {
   "cell_type": "code",
   "execution_count": 50,
   "id": "66567da6",
   "metadata": {},
   "outputs": [
    {
     "name": "stdout",
     "output_type": "stream",
     "text": [
      "Audi supports Self driving\n"
     ]
    }
   ],
   "source": [
    "audiQ7.selfdriving()"
   ]
  },
  {
   "cell_type": "code",
   "execution_count": 53,
   "id": "02185a8b",
   "metadata": {},
   "outputs": [
    {
     "data": {
      "text/plain": [
       "bool"
      ]
     },
     "execution_count": 53,
     "metadata": {},
     "output_type": "execute_result"
    }
   ],
   "source": [
    "type(audiQ7.enableai)"
   ]
  }
 ],
 "metadata": {
  "kernelspec": {
   "display_name": "Python 3 (ipykernel)",
   "language": "python",
   "name": "python3"
  },
  "language_info": {
   "codemirror_mode": {
    "name": "ipython",
    "version": 3
   },
   "file_extension": ".py",
   "mimetype": "text/x-python",
   "name": "python",
   "nbconvert_exporter": "python",
   "pygments_lexer": "ipython3",
   "version": "3.9.12"
  }
 },
 "nbformat": 4,
 "nbformat_minor": 5
}
