{
 "cells": [
  {
   "cell_type": "markdown",
   "id": "c4d39e4a",
   "metadata": {},
   "source": [
    "### Basics on Python:  "
   ]
  },
  {
   "cell_type": "code",
   "execution_count": 1,
   "id": "21cb74aa",
   "metadata": {},
   "outputs": [
    {
     "name": "stdout",
     "output_type": "stream",
     "text": [
      "True\n",
      "True\n",
      "False\n",
      "True\n"
     ]
    }
   ],
   "source": [
    "a = 'A100'\n",
    "\n",
    "# .istitle(), if the first letter is capital returns True\n",
    "print(a.istitle())\n",
    "\n",
    "# .isdigit() to check if its a digit\n",
    "print(a[1].isdigit())\n",
    "\n",
    "# .isalpha if the charector is a alphabet\n",
    "print(a.isalpha())\n",
    "\n",
    "# .isalnum if the charector is a number\n",
    "print(a.isalnum())"
   ]
  },
  {
   "cell_type": "markdown",
   "id": "76d5b5c3",
   "metadata": {},
   "source": [
    "**Logical Operations**  \n",
    "Logical operators are used on conditional statements (either True or False)"
   ]
  },
  {
   "cell_type": "code",
   "execution_count": 2,
   "id": "ff0addb4",
   "metadata": {},
   "outputs": [
    {
     "name": "stdout",
     "output_type": "stream",
     "text": [
      "True\n",
      "False\n",
      "False\n",
      "False\n"
     ]
    }
   ],
   "source": [
    "# and\n",
    "print(True and True)\n",
    "print(True and False)\n",
    "print(False and True)\n",
    "print(False and False)"
   ]
  },
  {
   "cell_type": "code",
   "execution_count": 3,
   "id": "10e17e6e",
   "metadata": {},
   "outputs": [
    {
     "name": "stdout",
     "output_type": "stream",
     "text": [
      "True\n",
      "True\n",
      "True\n",
      "False\n"
     ]
    }
   ],
   "source": [
    "# or\n",
    "print(True or True)\n",
    "print(True or False)\n",
    "print(False or True)\n",
    "print(False or False)"
   ]
  },
  {
   "cell_type": "markdown",
   "id": "7a125b1a",
   "metadata": {},
   "source": [
    "**List**  \n",
    "A list is a collection of elements, which can be of any data type such as numbers, strings, or other objects. Lists are created using square brackets [] and can be modified"
   ]
  },
  {
   "cell_type": "code",
   "execution_count": 4,
   "id": "15c247f8",
   "metadata": {},
   "outputs": [
    {
     "name": "stdout",
     "output_type": "stream",
     "text": [
      "[0, 1, 2, 3, 4, 5, 6, 7, 8, 9]\n"
     ]
    }
   ],
   "source": [
    "lt = []\n",
    "for i in range(10):\n",
    "    lt.append(i)\n",
    "print(lt)"
   ]
  },
  {
   "cell_type": "code",
   "execution_count": 5,
   "id": "f8d2eed6",
   "metadata": {},
   "outputs": [
    {
     "data": {
      "text/plain": [
       "[23, 0, 1, 2, 3, 4, 5, 6, 7, 8, 9]"
      ]
     },
     "execution_count": 5,
     "metadata": {},
     "output_type": "execute_result"
    }
   ],
   "source": [
    "# .insert(), the first argument is for the index and the second is the number to be inserted\n",
    "lt.insert(0,23)\n",
    "lt"
   ]
  },
  {
   "cell_type": "code",
   "execution_count": 6,
   "id": "97e1bd07",
   "metadata": {},
   "outputs": [
    {
     "data": {
      "text/plain": [
       "[0, 1, 2, 3, 4, 5, 6, 7]"
      ]
     },
     "execution_count": 6,
     "metadata": {},
     "output_type": "execute_result"
    }
   ],
   "source": [
    "lt[1:-2]"
   ]
  },
  {
   "cell_type": "code",
   "execution_count": 7,
   "id": "36bcdf70",
   "metadata": {},
   "outputs": [
    {
     "data": {
      "text/plain": [
       "[8, 9]"
      ]
     },
     "execution_count": 7,
     "metadata": {},
     "output_type": "execute_result"
    }
   ],
   "source": [
    "lt[-2:]"
   ]
  },
  {
   "cell_type": "code",
   "execution_count": 8,
   "id": "ad367795",
   "metadata": {},
   "outputs": [
    {
     "data": {
      "text/plain": [
       "[23, 0, 1, 2, 3, 4, 5, 6]"
      ]
     },
     "execution_count": 8,
     "metadata": {},
     "output_type": "execute_result"
    }
   ],
   "source": [
    "lt[:-3]"
   ]
  },
  {
   "cell_type": "code",
   "execution_count": 9,
   "id": "8a678dce",
   "metadata": {},
   "outputs": [
    {
     "data": {
      "text/plain": [
       "[23, 0, 1, 2, 3, 4, 5, 6, 7, 8, 9, 44, 10]"
      ]
     },
     "execution_count": 9,
     "metadata": {},
     "output_type": "execute_result"
    }
   ],
   "source": [
    "# .extend() is to extend numbers\n",
    "lt.extend([44,10])\n",
    "lt"
   ]
  },
  {
   "cell_type": "code",
   "execution_count": 10,
   "id": "0049a5f4",
   "metadata": {},
   "outputs": [
    {
     "data": {
      "text/plain": [
       "122"
      ]
     },
     "execution_count": 10,
     "metadata": {},
     "output_type": "execute_result"
    }
   ],
   "source": [
    "sum(lt)"
   ]
  },
  {
   "cell_type": "code",
   "execution_count": 11,
   "id": "7ef020c9",
   "metadata": {},
   "outputs": [
    {
     "data": {
      "text/plain": [
       "23"
      ]
     },
     "execution_count": 11,
     "metadata": {},
     "output_type": "execute_result"
    }
   ],
   "source": [
    "# .pop() to remove the number in the given index\n",
    "lt.pop(0)"
   ]
  },
  {
   "cell_type": "code",
   "execution_count": 12,
   "id": "f6f13a65",
   "metadata": {},
   "outputs": [
    {
     "data": {
      "text/plain": [
       "11"
      ]
     },
     "execution_count": 12,
     "metadata": {},
     "output_type": "execute_result"
    }
   ],
   "source": [
    "# .index() returns the index of the given number\n",
    "lt.index(10)"
   ]
  },
  {
   "cell_type": "code",
   "execution_count": 13,
   "id": "33034b31",
   "metadata": {},
   "outputs": [
    {
     "data": {
      "text/plain": [
       "[0, 1, 2, 3, 4, 5, 6, 7, 8, 9, 44, 10, 0, 1, 2, 3, 4, 5, 6, 7, 8, 9, 44, 10]"
      ]
     },
     "execution_count": 13,
     "metadata": {},
     "output_type": "execute_result"
    }
   ],
   "source": [
    "# List if multiplied by 2, just doubles \n",
    "lt * 2"
   ]
  },
  {
   "cell_type": "markdown",
   "id": "2f9b4ef1",
   "metadata": {},
   "source": [
    "**Set**  \n",
    "A set is an unordered collection of unique elements that can be of any data type, similar to lists, but with two main differences: sets are enclosed in curly braces {}, and they do not allow duplicate elements."
   ]
  },
  {
   "cell_type": "code",
   "execution_count": 14,
   "id": "e1c03bf4",
   "metadata": {},
   "outputs": [
    {
     "data": {
      "text/plain": [
       "{0, 1, 2, 3, 4, 5, 6, 7, 8, 9}"
      ]
     },
     "execution_count": 14,
     "metadata": {},
     "output_type": "execute_result"
    }
   ],
   "source": [
    "s1 = set()\n",
    "\n",
    "for i in range(10):\n",
    "    s1.add(i)\n",
    "s1"
   ]
  },
  {
   "cell_type": "code",
   "execution_count": 15,
   "id": "d3b1d419",
   "metadata": {},
   "outputs": [
    {
     "data": {
      "text/plain": [
       "{5, 6, 7, 8, 9, 10, 11, 12, 13, 14}"
      ]
     },
     "execution_count": 15,
     "metadata": {},
     "output_type": "execute_result"
    }
   ],
   "source": [
    "s2 = set()\n",
    "for i in range(5,15):\n",
    "    s2.add(i)\n",
    "    \n",
    "s2 "
   ]
  },
  {
   "cell_type": "code",
   "execution_count": 16,
   "id": "67e78927",
   "metadata": {},
   "outputs": [
    {
     "data": {
      "text/plain": [
       "{5, 6, 7, 8, 9}"
      ]
     },
     "execution_count": 16,
     "metadata": {},
     "output_type": "execute_result"
    }
   ],
   "source": [
    "# .intersection() to get the comman elements from 2 sets\n",
    "s1.intersection(s2)"
   ]
  },
  {
   "cell_type": "code",
   "execution_count": 17,
   "id": "cca5a581",
   "metadata": {},
   "outputs": [
    {
     "data": {
      "text/plain": [
       "{0, 1, 2, 3, 4}"
      ]
     },
     "execution_count": 17,
     "metadata": {},
     "output_type": "execute_result"
    }
   ],
   "source": [
    "# .defference , gets all the uncomman elements from the first set\n",
    "s1.difference(s2)"
   ]
  },
  {
   "cell_type": "markdown",
   "id": "3518460b",
   "metadata": {},
   "source": [
    "**Dictionary**  \n",
    "A dictionary is a collection of key-value pairs, where each key maps to a value. They are enclosed in curly braces {} and consist of key-value pairs separated by a colon."
   ]
  },
  {
   "cell_type": "code",
   "execution_count": 18,
   "id": "3dc19068",
   "metadata": {},
   "outputs": [
    {
     "data": {
      "text/plain": [
       "{'a': 0, 'b': 1, 'c': 2, 'd': 3, 'e': 4, 'f': 5}"
      ]
     },
     "execution_count": 18,
     "metadata": {},
     "output_type": "execute_result"
    }
   ],
   "source": [
    "my_dict = dict()\n",
    "\n",
    "lt = ['a','b','c','d','e','f']\n",
    "\n",
    "z = 0\n",
    "for i in lt:\n",
    "    my_dict[i] = z\n",
    "    z = z+1\n",
    "\n",
    "my_dict"
   ]
  },
  {
   "cell_type": "code",
   "execution_count": 19,
   "id": "fd582cac",
   "metadata": {},
   "outputs": [
    {
     "data": {
      "text/plain": [
       "2"
      ]
     },
     "execution_count": 19,
     "metadata": {},
     "output_type": "execute_result"
    }
   ],
   "source": [
    "my_dict['c']"
   ]
  },
  {
   "cell_type": "code",
   "execution_count": 20,
   "id": "4d21f8e2",
   "metadata": {},
   "outputs": [
    {
     "name": "stdout",
     "output_type": "stream",
     "text": [
      "('a', 0)\n",
      "('b', 1)\n",
      "('c', 2)\n",
      "('d', 3)\n",
      "('e', 4)\n",
      "('f', 5)\n"
     ]
    }
   ],
   "source": [
    "for i in my_dict.items():\n",
    "    print(i)"
   ]
  },
  {
   "cell_type": "code",
   "execution_count": 21,
   "id": "9880966b",
   "metadata": {},
   "outputs": [
    {
     "name": "stdout",
     "output_type": "stream",
     "text": [
      "a\n",
      "b\n",
      "c\n",
      "d\n",
      "e\n",
      "f\n"
     ]
    }
   ],
   "source": [
    "for i in my_dict.keys():\n",
    "    print(i)"
   ]
  },
  {
   "cell_type": "code",
   "execution_count": 22,
   "id": "ae313efd",
   "metadata": {},
   "outputs": [],
   "source": [
    "my_dict['b'] = 4"
   ]
  },
  {
   "cell_type": "code",
   "execution_count": 23,
   "id": "a14fba32",
   "metadata": {},
   "outputs": [
    {
     "data": {
      "text/plain": [
       "{'H1': {'A1': 2000}, 'H2': {'A2': 2344}}"
      ]
     },
     "execution_count": 23,
     "metadata": {},
     "output_type": "execute_result"
    }
   ],
   "source": [
    "house1 = {'A1':2000}\n",
    "house2 = {'A2':2344}\n",
    "\n",
    "house = {'H1':house1,'H2':house2}\n",
    "house"
   ]
  },
  {
   "cell_type": "code",
   "execution_count": 24,
   "id": "3d96770c",
   "metadata": {},
   "outputs": [
    {
     "data": {
      "text/plain": [
       "2000"
      ]
     },
     "execution_count": 24,
     "metadata": {},
     "output_type": "execute_result"
    }
   ],
   "source": [
    "house['H1']['A1']"
   ]
  },
  {
   "cell_type": "code",
   "execution_count": 25,
   "id": "9faba9d6",
   "metadata": {},
   "outputs": [],
   "source": [
    "t1 = (10,0,1,2,3,4,5,6,7,8,9)\n",
    "\n",
    "t1 = t1 * 2 "
   ]
  },
  {
   "cell_type": "code",
   "execution_count": 26,
   "id": "da69b008",
   "metadata": {},
   "outputs": [
    {
     "data": {
      "text/plain": [
       "2"
      ]
     },
     "execution_count": 26,
     "metadata": {},
     "output_type": "execute_result"
    }
   ],
   "source": [
    "t1.count(7)"
   ]
  }
 ],
 "metadata": {
  "kernelspec": {
   "display_name": "Python 3 (ipykernel)",
   "language": "python",
   "name": "python3"
  },
  "language_info": {
   "codemirror_mode": {
    "name": "ipython",
    "version": 3
   },
   "file_extension": ".py",
   "mimetype": "text/x-python",
   "name": "python",
   "nbconvert_exporter": "python",
   "pygments_lexer": "ipython3",
   "version": "3.9.12"
  }
 },
 "nbformat": 4,
 "nbformat_minor": 5
}
