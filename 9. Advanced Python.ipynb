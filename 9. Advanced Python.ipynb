{
 "cells": [
  {
   "cell_type": "markdown",
   "id": "f701cd7a",
   "metadata": {},
   "source": [
    "### Exception Handling"
   ]
  },
  {
   "cell_type": "markdown",
   "id": "537e4351",
   "metadata": {},
   "source": [
    "Error - Can be identified and corrected during compile time  \n",
    "Exception - Only identified during run time  \n",
    "\n",
    "Compile time - when a code is converted to machine code 0 and 1  \n",
    "runtime - period of time when a program is running and generally occurs after compile time "
   ]
  },
  {
   "cell_type": "code",
   "execution_count": 1,
   "id": "451e84f4",
   "metadata": {},
   "outputs": [],
   "source": [
    "# try:\n",
    "    # code block where exception can occur\n",
    "# except:\n",
    "    # where we give the response to the error that has occured "
   ]
  },
  {
   "cell_type": "code",
   "execution_count": 3,
   "id": "f3c11624",
   "metadata": {},
   "outputs": [
    {
     "name": "stdout",
     "output_type": "stream",
     "text": [
      "There is some Error\n"
     ]
    }
   ],
   "source": [
    "try:\n",
    "    a = b\n",
    "except:\n",
    "    print(\"There is some Error\") "
   ]
  },
  {
   "cell_type": "code",
   "execution_count": 4,
   "id": "b542650e",
   "metadata": {},
   "outputs": [
    {
     "name": "stdout",
     "output_type": "stream",
     "text": [
      "name 'b' is not defined\n"
     ]
    }
   ],
   "source": [
    "try:\n",
    "    a = b\n",
    "except Exception as ex:\n",
    "    print(ex) "
   ]
  },
  {
   "cell_type": "code",
   "execution_count": 6,
   "id": "d460f575",
   "metadata": {},
   "outputs": [
    {
     "name": "stdout",
     "output_type": "stream",
     "text": [
      "The user has not defined a variable\n"
     ]
    }
   ],
   "source": [
    "try:\n",
    "    a = b\n",
    "except NameError:\n",
    "    print(\"The user has not defined a variable\")\n",
    "except Exception as ex:\n",
    "    print(ex) "
   ]
  },
  {
   "cell_type": "code",
   "execution_count": 8,
   "id": "cb87fce3",
   "metadata": {},
   "outputs": [
    {
     "name": "stdout",
     "output_type": "stream",
     "text": [
      "Make it into the same datatype\n"
     ]
    }
   ],
   "source": [
    "try:\n",
    "    a = 1\n",
    "    b = 'a'\n",
    "    c = a + b\n",
    "except NameError:\n",
    "    print(\"The user has not defined a variable\")\n",
    "except TypeError:\n",
    "    print(\"Make it into the same datatype\")\n",
    "except Exception as ex:\n",
    "    print(ex) "
   ]
  },
  {
   "cell_type": "code",
   "execution_count": 43,
   "id": "d8eb8e02",
   "metadata": {},
   "outputs": [
    {
     "name": "stdout",
     "output_type": "stream",
     "text": [
      "Enter first number:3\n",
      "Enter second number:5\n",
      "What calculation do you want:\n",
      "                        addition,subtraction,multiplication,divisionmultiplication\n",
      "The multiplication of 3 and 5 is 15\n"
     ]
    }
   ],
   "source": [
    "### Try else block\n",
    "\n",
    "try:\n",
    "    num1 = int(input(\"Enter first number:\"))\n",
    "    num2 = int(input(\"Enter second number:\"))\n",
    "    \n",
    "    calculator = input('''What calculation do you want:\n",
    "                        addition,subtraction,multiplication,division''')\n",
    "    \n",
    "    calculations = {\n",
    "        'addition' : num1 + num2,\n",
    "        'subtraction' : num1 - num2,\n",
    "        'multiplication' : num1 * num2,\n",
    "        'division' : num1 / num2\n",
    "    }\n",
    "\n",
    "except NameError:\n",
    "    print(\"The user has not defined a variable\")\n",
    "except ZeroDivisionError:\n",
    "    print(\"Please provide a number greater than zero\")\n",
    "except TypeError:\n",
    "    print(\"Make it into the same datatype\")\n",
    "except Exception as ex:\n",
    "    print(ex)\n",
    "else:\n",
    "    for calculation in calculations:\n",
    "        if calculator == calculation:\n",
    "            print(\"The {calculation_type} of {num1} and {num2} is {answer}\".format(calculation_type = calculation,\n",
    "                                                                                   num1 = num1,\n",
    "                                                                                   num2 = num2,\n",
    "                                                                                   answer = calculations[calculation]))\n",
    "        else:\n",
    "            pass\n",
    "    "
   ]
  },
  {
   "cell_type": "code",
   "execution_count": 46,
   "id": "ad696241",
   "metadata": {
    "scrolled": true
   },
   "outputs": [
    {
     "name": "stdout",
     "output_type": "stream",
     "text": [
      "Enter first number:4\n",
      "Enter second number:2\n",
      "What calculation do you want:\n",
      "addition,subtraction,multiplication,divisionaddition\n",
      "The addition of 4 and 2 is 6\n",
      "Execution completed\n"
     ]
    }
   ],
   "source": [
    "### Try else block\n",
    "\n",
    "try:\n",
    "    num1 = int(input(\"Enter first number:\"))\n",
    "    num2 = int(input(\"Enter second number:\"))\n",
    "    \n",
    "    calculator = input(\"What calculation do you want:\\naddition,subtraction,multiplication,division\\n\")\n",
    "    \n",
    "    calculations = {\n",
    "        'addition' : num1 + num2,\n",
    "        'subtraction' : num1 - num2,\n",
    "        'multiplication' : num1 * num2,\n",
    "        'division' : num1 / num2\n",
    "    }\n",
    "\n",
    "except NameError:\n",
    "    print(\"The user has not defined a variable\")\n",
    "except ZeroDivisionError:\n",
    "    print(\"Please provide a number greater than zero\")\n",
    "except TypeError:\n",
    "    print(\"Make it into the same datatype\")\n",
    "except Exception as ex:\n",
    "    print(ex)\n",
    "else:\n",
    "    for calculation in calculations:\n",
    "        if calculator == calculation:\n",
    "            print(\"The {calculation_type} of {num1} and {num2} is {answer}\".format(calculation_type = calculation,\n",
    "                                                                                   num1 = num1,\n",
    "                                                                                   num2 = num2,\n",
    "                                                                                   answer = calculations[calculation]))\n",
    "        else:\n",
    "            pass\n",
    "finally:\n",
    "    print(\"Execution completed\")"
   ]
  },
  {
   "cell_type": "markdown",
   "id": "972907ed",
   "metadata": {},
   "source": [
    "### Custom Exception"
   ]
  },
  {
   "cell_type": "code",
   "execution_count": 2,
   "id": "a900a290",
   "metadata": {},
   "outputs": [],
   "source": [
    "class Error(Exception):\n",
    "    pass\n",
    "    \n",
    "class dobException(Error):\n",
    "    pass\n",
    "\n",
    "class customgeneric(Error):\n",
    "    pass"
   ]
  },
  {
   "cell_type": "code",
   "execution_count": 3,
   "id": "53bad3cf",
   "metadata": {},
   "outputs": [
    {
     "name": "stdout",
     "output_type": "stream",
     "text": [
      "Enter the year of Birth: 2000\n",
      "You can apply for the exams\n"
     ]
    }
   ],
   "source": [
    "year = int(input(\"Enter the year of Birth: \"))\n",
    "age = 2023 - year\n",
    "\n",
    "try: \n",
    "    if age<=30 and age>20:\n",
    "        print(\"You can apply for the exams\")\n",
    "    else:\n",
    "        raise dobException\n",
    "except dobException:\n",
    "    print(\"The year age is not valid\")"
   ]
  }
 ],
 "metadata": {
  "kernelspec": {
   "display_name": "Python 3 (ipykernel)",
   "language": "python",
   "name": "python3"
  },
  "language_info": {
   "codemirror_mode": {
    "name": "ipython",
    "version": 3
   },
   "file_extension": ".py",
   "mimetype": "text/x-python",
   "name": "python",
   "nbconvert_exporter": "python",
   "pygments_lexer": "ipython3",
   "version": "3.9.12"
  }
 },
 "nbformat": 4,
 "nbformat_minor": 5
}
