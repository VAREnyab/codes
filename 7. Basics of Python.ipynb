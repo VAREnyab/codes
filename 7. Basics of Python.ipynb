{
 "cells": [
  {
   "cell_type": "markdown",
   "id": "ac54b318",
   "metadata": {},
   "source": [
    "## Functions\n",
    "Functions in Python are blocks of reusable code that perform a specific task."
   ]
  },
  {
   "cell_type": "code",
   "execution_count": 21,
   "id": "35653a09",
   "metadata": {},
   "outputs": [
    {
     "data": {
      "text/plain": [
       "[6, 16, 0, 18, 17, 11, 14, 21, 12, 6]"
      ]
     },
     "execution_count": 21,
     "metadata": {},
     "output_type": "execute_result"
    }
   ],
   "source": [
    "import numpy as np"
   ]
  },
  {
   "cell_type": "code",
   "execution_count": 5,
   "id": "be0016fa",
   "metadata": {},
   "outputs": [
    {
     "name": "stdout",
     "output_type": "stream",
     "text": [
      "10 is even\n"
     ]
    }
   ],
   "source": [
    "def even_odd(num):\n",
    "    if num%2==0:\n",
    "        return (\"{} is even\".format(num))\n",
    "    else:\n",
    "        return (\"{} is odd\".format(num))\n",
    "    \n",
    "if __name__ == \"__main__\":\n",
    "    print(even_odd(10))"
   ]
  },
  {
   "cell_type": "code",
   "execution_count": 6,
   "id": "90fbef74",
   "metadata": {},
   "outputs": [
    {
     "data": {
      "text/plain": [
       "'24 is even'"
      ]
     },
     "execution_count": 6,
     "metadata": {},
     "output_type": "execute_result"
    }
   ],
   "source": [
    "even_odd(24)"
   ]
  },
  {
   "cell_type": "code",
   "execution_count": 3,
   "id": "db44acfb",
   "metadata": {},
   "outputs": [],
   "source": [
    "# print vs return\n",
    "\n",
    "def hello():\n",
    "    print(\"Hello World\")\n",
    "    \n",
    "\n",
    "def hello1():\n",
    "    return(\"Hello World\")"
   ]
  },
  {
   "cell_type": "code",
   "execution_count": 4,
   "id": "6f9622ae",
   "metadata": {},
   "outputs": [
    {
     "name": "stdout",
     "output_type": "stream",
     "text": [
      "Hello World\n",
      "None\n"
     ]
    }
   ],
   "source": [
    "val = hello()\n",
    "print(val)"
   ]
  },
  {
   "cell_type": "code",
   "execution_count": 5,
   "id": "e14ecdaa",
   "metadata": {},
   "outputs": [
    {
     "name": "stdout",
     "output_type": "stream",
     "text": [
      "Hello World\n"
     ]
    }
   ],
   "source": [
    "val = hello1()\n",
    "print(val)"
   ]
  },
  {
   "cell_type": "code",
   "execution_count": 6,
   "id": "af75e251",
   "metadata": {},
   "outputs": [],
   "source": [
    "def hello(name,age=23):\n",
    "    print(\"My name is {} and age is {}\".format(name,age))"
   ]
  },
  {
   "cell_type": "code",
   "execution_count": 7,
   "id": "17842750",
   "metadata": {},
   "outputs": [
    {
     "name": "stdout",
     "output_type": "stream",
     "text": [
      "My name is Var and age is 22\n"
     ]
    }
   ],
   "source": [
    "hello('Var',22)"
   ]
  },
  {
   "cell_type": "code",
   "execution_count": 8,
   "id": "239d983a",
   "metadata": {},
   "outputs": [],
   "source": [
    "# *args - positional argument\n",
    "# **kwargs - key words argument\n",
    "\n",
    "def func(*args,**kwargs):\n",
    "    print(args)\n",
    "    print(kwargs)"
   ]
  },
  {
   "cell_type": "code",
   "execution_count": 9,
   "id": "574e6a3b",
   "metadata": {},
   "outputs": [
    {
     "name": "stdout",
     "output_type": "stream",
     "text": [
      "('Varenya', 'Vinay')\n",
      "{'age': 22, 'dob': 2000}\n"
     ]
    }
   ],
   "source": [
    "func('Varenya','Vinay',age=22,dob=2000)"
   ]
  },
  {
   "cell_type": "code",
   "execution_count": 10,
   "id": "1da1e46e",
   "metadata": {},
   "outputs": [],
   "source": [
    "a = ('Varenya', 'Vinay')\n",
    "b = {'age': 22, 'dob': 2000}"
   ]
  },
  {
   "cell_type": "code",
   "execution_count": 11,
   "id": "1092b90d",
   "metadata": {},
   "outputs": [
    {
     "name": "stdout",
     "output_type": "stream",
     "text": [
      "('Varenya', 'Vinay')\n",
      "{'age': 22, 'dob': 2000}\n"
     ]
    }
   ],
   "source": [
    "func(*a,**b)"
   ]
  },
  {
   "cell_type": "code",
   "execution_count": 12,
   "id": "72e90ce9",
   "metadata": {},
   "outputs": [],
   "source": [
    "def even_odd_sum(lt):\n",
    "    even_sum = 0\n",
    "    odd_sum = 0\n",
    "    \n",
    "    for i in lt:\n",
    "        if i%2==0:\n",
    "            even_sum += i\n",
    "        else:\n",
    "            odd_sum += i\n",
    "    return even_sum, odd_sum"
   ]
  },
  {
   "cell_type": "code",
   "execution_count": 13,
   "id": "c9f15ba2",
   "metadata": {},
   "outputs": [
    {
     "data": {
      "text/plain": [
       "(12, 16)"
      ]
     },
     "execution_count": 13,
     "metadata": {},
     "output_type": "execute_result"
    }
   ],
   "source": [
    "even_odd_sum(list(range(1,8)))"
   ]
  },
  {
   "cell_type": "markdown",
   "id": "f5685b5f",
   "metadata": {},
   "source": [
    "**Map Function**   \n",
    "map() function is used to apply a given function to each item of an iterable (such as a list, tuple, or set) and returns a new iterable with the results."
   ]
  },
  {
   "cell_type": "code",
   "execution_count": 31,
   "id": "435796ca",
   "metadata": {},
   "outputs": [
    {
     "data": {
      "text/plain": [
       "[-3, 19, -22, -9, 15, 13, 5, 18, 18, 17]"
      ]
     },
     "execution_count": 31,
     "metadata": {},
     "output_type": "execute_result"
    }
   ],
   "source": [
    "lt = list(np.random.randint(-25,25,size=10))\n",
    "lt"
   ]
  },
  {
   "cell_type": "code",
   "execution_count": 32,
   "id": "f8384a3c",
   "metadata": {},
   "outputs": [
    {
     "data": {
      "text/plain": [
       "['-3 is odd',\n",
       " '19 is odd',\n",
       " '-22 is even',\n",
       " '-9 is odd',\n",
       " '15 is odd',\n",
       " '13 is odd',\n",
       " '5 is odd',\n",
       " '18 is even',\n",
       " '18 is even',\n",
       " '17 is odd']"
      ]
     },
     "execution_count": 32,
     "metadata": {},
     "output_type": "execute_result"
    }
   ],
   "source": [
    "list(map(even_odd,lt))"
   ]
  },
  {
   "cell_type": "markdown",
   "id": "1cc2ba21",
   "metadata": {},
   "source": [
    "**Lambda Functions (Anonymous Function)**  \n",
    "Functions that are defined without a name. They are typically used as a way to create small, one-time use functions within a program."
   ]
  },
  {
   "cell_type": "code",
   "execution_count": 34,
   "id": "70450968",
   "metadata": {},
   "outputs": [],
   "source": [
    "def addition(a,b):\n",
    "    return a+b"
   ]
  },
  {
   "cell_type": "code",
   "execution_count": 35,
   "id": "d16a0488",
   "metadata": {},
   "outputs": [
    {
     "data": {
      "text/plain": [
       "9"
      ]
     },
     "execution_count": 35,
     "metadata": {},
     "output_type": "execute_result"
    }
   ],
   "source": [
    "addition(4,5)"
   ]
  },
  {
   "cell_type": "code",
   "execution_count": 38,
   "id": "b2c9f552",
   "metadata": {},
   "outputs": [],
   "source": [
    "# lambda variables : (the things it must do)\n",
    "\n",
    "add = lambda a,b: a+b"
   ]
  },
  {
   "cell_type": "code",
   "execution_count": 39,
   "id": "4a3aa861",
   "metadata": {},
   "outputs": [
    {
     "data": {
      "text/plain": [
       "10"
      ]
     },
     "execution_count": 39,
     "metadata": {},
     "output_type": "execute_result"
    }
   ],
   "source": [
    "add(5,5)"
   ]
  },
  {
   "cell_type": "code",
   "execution_count": 41,
   "id": "9337f1ef",
   "metadata": {},
   "outputs": [],
   "source": [
    "def even(num):\n",
    "    if num%2==0:\n",
    "        return True"
   ]
  },
  {
   "cell_type": "code",
   "execution_count": 42,
   "id": "635f82f6",
   "metadata": {},
   "outputs": [],
   "source": [
    "even = lambda even_num:even_num%2==0\n",
    "even(4)"
   ]
  },
  {
   "cell_type": "markdown",
   "id": "58cd03cd",
   "metadata": {},
   "source": [
    "**Filter Function**  \n",
    "filter() function applies the function to each element in the iterable and returns only those elements for which the function returns True."
   ]
  },
  {
   "cell_type": "code",
   "execution_count": 61,
   "id": "930b9b8d",
   "metadata": {},
   "outputs": [],
   "source": [
    "def even(num):\n",
    "    if num%2==0:\n",
    "        return True"
   ]
  },
  {
   "cell_type": "code",
   "execution_count": 62,
   "id": "3f805927",
   "metadata": {},
   "outputs": [
    {
     "data": {
      "text/plain": [
       "[-3, 19, -22, -9, 15, 13, 5, 18, 18, 17]"
      ]
     },
     "execution_count": 62,
     "metadata": {},
     "output_type": "execute_result"
    }
   ],
   "source": [
    "lt"
   ]
  },
  {
   "cell_type": "code",
   "execution_count": 63,
   "id": "5bc2689f",
   "metadata": {},
   "outputs": [
    {
     "data": {
      "text/plain": [
       "[-22, 18, 18]"
      ]
     },
     "execution_count": 63,
     "metadata": {},
     "output_type": "execute_result"
    }
   ],
   "source": [
    "list(filter(even,lt))"
   ]
  },
  {
   "cell_type": "code",
   "execution_count": 64,
   "id": "b3a512ae",
   "metadata": {},
   "outputs": [
    {
     "data": {
      "text/plain": [
       "[None, None, True, None, None, None, None, True, True, None]"
      ]
     },
     "execution_count": 64,
     "metadata": {},
     "output_type": "execute_result"
    }
   ],
   "source": [
    "list(map(even,lt))"
   ]
  },
  {
   "cell_type": "code",
   "execution_count": 65,
   "id": "041b948c",
   "metadata": {},
   "outputs": [
    {
     "data": {
      "text/plain": [
       "[-22, 18, 18]"
      ]
     },
     "execution_count": 65,
     "metadata": {},
     "output_type": "execute_result"
    }
   ],
   "source": [
    "list(filter(lambda num:num%2==0,lt))"
   ]
  },
  {
   "cell_type": "code",
   "execution_count": 66,
   "id": "99a90047",
   "metadata": {},
   "outputs": [
    {
     "data": {
      "text/plain": [
       "[False, False, True, False, False, False, False, True, True, False]"
      ]
     },
     "execution_count": 66,
     "metadata": {},
     "output_type": "execute_result"
    }
   ],
   "source": [
    "list(map(lambda num:num%2==0,lt))"
   ]
  },
  {
   "cell_type": "markdown",
   "id": "f70784a9",
   "metadata": {},
   "source": [
    "**List Comprehension**  \n",
    "List comprehension is a concise way to create lists in Python."
   ]
  },
  {
   "cell_type": "code",
   "execution_count": 9,
   "id": "cd031c8e",
   "metadata": {},
   "outputs": [],
   "source": [
    "def lt_square(lt):\n",
    "    lt1 = []\n",
    "    for i in lt:\n",
    "        lt1.append(i*i)\n",
    "    return lt1"
   ]
  },
  {
   "cell_type": "code",
   "execution_count": 11,
   "id": "c0d28f8a",
   "metadata": {},
   "outputs": [],
   "source": [
    "a = lt_square(list(range(0,10)))\n",
    "a"
   ]
  },
  {
   "cell_type": "code",
   "execution_count": 14,
   "id": "a6406862",
   "metadata": {},
   "outputs": [
    {
     "data": {
      "text/plain": [
       "[0, 16, 256, 1296, 4096]"
      ]
     },
     "execution_count": 14,
     "metadata": {},
     "output_type": "execute_result"
    }
   ],
   "source": [
    "lt = [i*i for i in a if i%2==0]\n",
    "lt"
   ]
  },
  {
   "cell_type": "markdown",
   "id": "b0c9acb6",
   "metadata": {},
   "source": [
    "**String Fromatting**  \n",
    "String formatting is the process of creating formatted strings by embedding values of variables in the string itself.  "
   ]
  },
  {
   "cell_type": "code",
   "execution_count": 1,
   "id": "7ff09e48",
   "metadata": {},
   "outputs": [
    {
     "name": "stdout",
     "output_type": "stream",
     "text": [
      "hello\n"
     ]
    }
   ],
   "source": [
    "print(\"hello\")"
   ]
  },
  {
   "cell_type": "code",
   "execution_count": 6,
   "id": "74ccea24",
   "metadata": {},
   "outputs": [
    {
     "data": {
      "text/plain": [
       "'Hello Var.'"
      ]
     },
     "execution_count": 6,
     "metadata": {},
     "output_type": "execute_result"
    }
   ],
   "source": [
    "def greeting(name):\n",
    "    return \"Hello {}.\".format(name)\n",
    "\n",
    "\n",
    "greeting('Var')"
   ]
  },
  {
   "cell_type": "code",
   "execution_count": 9,
   "id": "772ec284",
   "metadata": {},
   "outputs": [
    {
     "data": {
      "text/plain": [
       "'Hello Var V.'"
      ]
     },
     "execution_count": 9,
     "metadata": {},
     "output_type": "execute_result"
    }
   ],
   "source": [
    "def wel_mail(f_name,l_name):\n",
    "    return \"Hello {} {}.\".format(f_name,l_name)\n",
    "\n",
    "\n",
    "wel_mail('Var','V')"
   ]
  },
  {
   "cell_type": "code",
   "execution_count": 13,
   "id": "f5de442e",
   "metadata": {},
   "outputs": [
    {
     "data": {
      "text/plain": [
       "'My name is Var. My age is 22.'"
      ]
     },
     "execution_count": 13,
     "metadata": {},
     "output_type": "execute_result"
    }
   ],
   "source": [
    "def wel_mail(f_name,l_name,age):\n",
    "    return \"My name is {name}. My age is {age}.\".format(name = f_name,age = age)\n",
    "\n",
    "wel_mail('Var','V',22)"
   ]
  },
  {
   "cell_type": "markdown",
   "id": "b2800775",
   "metadata": {},
   "source": [
    "**Iterables vs Iterators**"
   ]
  },
  {
   "cell_type": "code",
   "execution_count": 43,
   "id": "f771d5c7",
   "metadata": {},
   "outputs": [],
   "source": [
    "# Iterator doesnt store in the memory, only when the inbuilt 'next'\n",
    "# key word is called its stored in memory\n",
    "\n",
    "# Iterable its already stored in memory\n",
    "# List is a iterable it can be converted to interator using 'iter' inbuilt function\n",
    "\n",
    "## both can be retrieved with a for loop"
   ]
  },
  {
   "cell_type": "code",
   "execution_count": 15,
   "id": "145061b4",
   "metadata": {},
   "outputs": [
    {
     "name": "stdout",
     "output_type": "stream",
     "text": [
      "1\n",
      "2\n",
      "3\n",
      "4\n"
     ]
    }
   ],
   "source": [
    "# List is Iterables\n",
    "\n",
    "lt = [1,2,3,4] \n",
    "\n",
    "for i in lt:\n",
    "    print(i)"
   ]
  },
  {
   "cell_type": "code",
   "execution_count": 40,
   "id": "c1ed20b3",
   "metadata": {},
   "outputs": [
    {
     "data": {
      "text/plain": [
       "<list_iterator at 0x1d154ef0160>"
      ]
     },
     "execution_count": 40,
     "metadata": {},
     "output_type": "execute_result"
    }
   ],
   "source": [
    "# iterator\n",
    "\n",
    "lt1 = iter(lt)\n",
    "lt1"
   ]
  },
  {
   "cell_type": "code",
   "execution_count": 41,
   "id": "5fb261ae",
   "metadata": {},
   "outputs": [
    {
     "data": {
      "text/plain": [
       "1"
      ]
     },
     "execution_count": 41,
     "metadata": {},
     "output_type": "execute_result"
    }
   ],
   "source": [
    "next(lt1)"
   ]
  },
  {
   "cell_type": "code",
   "execution_count": 42,
   "id": "d4b8bb97",
   "metadata": {},
   "outputs": [
    {
     "name": "stdout",
     "output_type": "stream",
     "text": [
      "2\n",
      "3\n",
      "4\n"
     ]
    }
   ],
   "source": [
    "for i in lt1:\n",
    "    print(i)"
   ]
  }
 ],
 "metadata": {
  "kernelspec": {
   "display_name": "Python 3 (ipykernel)",
   "language": "python",
   "name": "python3"
  },
  "language_info": {
   "codemirror_mode": {
    "name": "ipython",
    "version": 3
   },
   "file_extension": ".py",
   "mimetype": "text/x-python",
   "name": "python",
   "nbconvert_exporter": "python",
   "pygments_lexer": "ipython3",
   "version": "3.9.12"
  }
 },
 "nbformat": 4,
 "nbformat_minor": 5
}
